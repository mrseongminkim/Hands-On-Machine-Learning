{
 "cells": [
  {
   "cell_type": "code",
   "execution_count": 13,
   "metadata": {},
   "outputs": [
    {
     "name": "stdout",
     "output_type": "stream",
     "text": [
      "Epoch 1, train_loss: 5.045858860015869 valid_loss: 4.504082679748535\n",
      "Epoch 2, train_loss: 4.5565714836120605 valid_loss: 4.113897323608398\n",
      "Epoch 3, train_loss: 4.13531494140625 valid_loss: 3.787806510925293\n",
      "Epoch 4, train_loss: 3.7713446617126465 valid_loss: 3.5147640705108643\n",
      "Epoch 5, train_loss: 3.455975294113159 valid_loss: 3.285740375518799\n",
      "Epoch 6, train_loss: 3.1820695400238037 valid_loss: 3.0932652950286865\n",
      "Epoch 7, train_loss: 2.9436862468719482 valid_loss: 2.9311041831970215\n",
      "Epoch 8, train_loss: 2.7358248233795166 valid_loss: 2.794041156768799\n",
      "Epoch 9, train_loss: 2.554244041442871 valid_loss: 2.6777069568634033\n",
      "Epoch 10, train_loss: 2.395329236984253 valid_loss: 2.5784332752227783\n",
      "Epoch 11, train_loss: 2.255963087081909 valid_loss: 2.4931321144104004\n",
      "Epoch 12, train_loss: 2.1334588527679443 valid_loss: 2.419210195541382\n",
      "Epoch 13, train_loss: 2.025491714477539 valid_loss: 2.354511260986328\n",
      "Epoch 14, train_loss: 1.9300568103790283 valid_loss: 2.297239303588867\n",
      "Epoch 15, train_loss: 1.8454217910766602 valid_loss: 2.245903968811035\n",
      "Epoch 16, train_loss: 1.7700899839401245 valid_loss: 2.19931697845459\n",
      "Epoch 17, train_loss: 1.7028093338012695 valid_loss: 2.1564791202545166\n",
      "Epoch 18, train_loss: 1.6424628496170044 valid_loss: 2.1165735721588135\n",
      "Epoch 19, train_loss: 1.5880961418151855 valid_loss: 2.078951358795166\n",
      "Epoch 20, train_loss: 1.5389076471328735 valid_loss: 2.0431034564971924\n",
      "test_loss: 1.5295182466506958\n"
     ]
    }
   ],
   "source": [
    "from sklearn.datasets import fetch_california_housing\n",
    "from sklearn.model_selection import train_test_split\n",
    "from sklearn.preprocessing import StandardScaler\n",
    "import torch\n",
    "import torch.nn as nn\n",
    "import torch.optim as optim\n",
    "\n",
    "housing = fetch_california_housing()\n",
    "\n",
    "X_train_full, X_test, y_train_full, y_test = train_test_split(housing.data, housing.target)\n",
    "X_train, X_valid, y_train, y_valid = train_test_split(X_train_full, y_train_full)\n",
    "\n",
    "scaler = StandardScaler()\n",
    "#learn scaling parameters(mean and std) on the train data\n",
    "X_train = torch.FloatTensor(scaler.fit_transform(X_train)).cuda()\n",
    "#use learned scaling parameters\n",
    "X_valid = torch.FloatTensor(scaler.transform(X_valid)).cuda()\n",
    "X_test = torch.FloatTensor(scaler.transform(X_test)).cuda()\n",
    "\n",
    "y_train = torch.FloatTensor(y_train).unsqueeze(1).cuda()\n",
    "y_valid = torch.FloatTensor(y_valid).unsqueeze(1).cuda()\n",
    "y_test = torch.FloatTensor(y_test).unsqueeze(1).cuda()\n",
    "\n",
    "model = nn.Sequential(\n",
    "    nn.Linear(8, 30),\n",
    "    nn.ReLU(),\n",
    "    nn.Linear(30, 1)\n",
    ").cuda()\n",
    "criterion = nn.MSELoss()\n",
    "optimizer = optim.SGD(model.parameters(), lr=0.01)\n",
    "\n",
    "NUM_EPOCHS = 20\n",
    "for epoch in range(NUM_EPOCHS):\n",
    "    model.train()\n",
    "    result = model(X_train)\n",
    "    loss = criterion(result, y_train)\n",
    "    optimizer.zero_grad()\n",
    "    loss.backward()\n",
    "    optimizer.step()\n",
    "    total_loss = loss.item()\n",
    "    print(f\"Epoch {epoch + 1}, train_loss: {total_loss}\", end=\" \")\n",
    "    model.eval()\n",
    "    with torch.no_grad():\n",
    "        result = model(X_valid)\n",
    "        loss = criterion(result, y_valid)\n",
    "        total_loss = loss.item()\n",
    "        print(f\"valid_loss: {total_loss}\")\n",
    "\n",
    "model.eval()\n",
    "with torch.no_grad():\n",
    "    result = model(X_test)\n",
    "    loss = criterion(result, y_test)\n",
    "    total_loss = loss.item()\n",
    "    print(f\"test_loss: {total_loss}\")\n"
   ]
  }
 ],
 "metadata": {
  "kernelspec": {
   "display_name": "Python 3",
   "language": "python",
   "name": "python3"
  },
  "language_info": {
   "codemirror_mode": {
    "name": "ipython",
    "version": 3
   },
   "file_extension": ".py",
   "mimetype": "text/x-python",
   "name": "python",
   "nbconvert_exporter": "python",
   "pygments_lexer": "ipython3",
   "version": "3.10.10"
  },
  "orig_nbformat": 4
 },
 "nbformat": 4,
 "nbformat_minor": 2
}
